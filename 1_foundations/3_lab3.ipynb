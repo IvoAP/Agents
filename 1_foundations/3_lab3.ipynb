{
 "cells": [
  {
   "cell_type": "markdown",
   "id": "ed723aa5",
   "metadata": {},
   "source": [
    "# Personal Information Setup for AI Agent Development\n",
    "\n",
    "## 📋 Instructions for Users\n",
    "\n",
    "Welcome to this AI agent development notebook! To create personalized and effective AI agents, we need some information about you. Please follow the steps below to set up your personal profile.\n",
    "\n",
    "### 🔧 Required Setup Steps:\n",
    "\n",
    "#### 1. 📄 **Upload Your Curriculum/Resume (PDF)**\n",
    "- Place your curriculum vitae or resume in PDF format in the `/me/` folder\n",
    "- Recommended filename: `curriculum_[yourname].pdf` or `resume_[yourname].pdf`\n",
    "- **Why we need this**: Your professional background helps the AI understand your expertise, skills, and career context\n",
    "\n",
    "#### 2. ✍️ **Create a Personal Summary Text**\n",
    "- Create or update the file `/me/summary.txt` with a comprehensive text about yourself\n",
    "- **Include the following information**:\n",
    "  - Current position and role\n",
    "  - Educational background\n",
    "  - Professional experience and key achievements\n",
    "  - Research interests or areas of expertise\n",
    "  - Notable projects or contributions\n",
    "  - Skills and technologies you work with\n",
    "  - Career goals or aspirations\n",
    "\n",
    "#### 3. 📝 **Summary Text Example Format:**\n",
    "```\n",
    "Currently, [Your Name] is [current position] at [institution/company], working as [role description]. \n",
    "Research/work focuses on [main areas of interest/expertise]. \n",
    "\n",
    "Professional experience includes [key positions and achievements]. \n",
    "[Educational background and notable accomplishments].\n",
    "\n",
    "[Additional relevant information about skills, projects, or goals].\n",
    "```\n",
    "\n"
   ]
  },
  {
   "cell_type": "code",
   "execution_count": 17,
   "id": "6ea9575c",
   "metadata": {},
   "outputs": [],
   "source": [
    "from dotenv import load_dotenv\n",
    "from openai import OpenAI\n",
    "from PyPDF2 import PdfReader"
   ]
  },
  {
   "cell_type": "code",
   "execution_count": 18,
   "id": "32d7f3fa",
   "metadata": {},
   "outputs": [],
   "source": [
    "load_dotenv(override=True)\n",
    "openai = OpenAI()"
   ]
  },
  {
   "cell_type": "code",
   "execution_count": 19,
   "id": "bf66a1c0",
   "metadata": {},
   "outputs": [],
   "source": [
    "reader = PdfReader(\"me/sample.pdf\")\n",
    "lattes = \"\"\n",
    "for page in reader.pages:\n",
    "    text = page.extract_text()\n",
    "    if text:\n",
    "        lattes += text "
   ]
  },
  {
   "cell_type": "code",
   "execution_count": 20,
   "id": "a1bba08f",
   "metadata": {},
   "outputs": [
    {
     "data": {
      "text/plain": [
       "'Nome\\nIvo Aguiar Pimenta\\nNome em citações\\nbibliográficas\\nPIMENT A, I. A.;PIMENT A, IVO A;PIMENT A, IVO\\nA.;AGUIAR, I. P .;PIMENT A, IVO;I vo Pimenta\\nLattes iD\\nhttp://lat tes.cnpq.br/9833753332890698\\nOrcid iD\\n? \\nhttps://or cid.or g/0009-0005-4571-6242\\nPaís de\\nNacionalidade\\nBrasil\\n2024\\nMestr ado em andamento em Programa de Pós\\nGraduação em Ciência da Computação UECE .\\nUniversidade Estadual do Ceará, UECE, B rasil.\\nOrientador: \\n Rafael Lopes Gomes.\\nBolsista do(a): Coordenação de\\nAperf eiçoamento de Pessoal de Nível Superior ,\\nCAPES , Brasil.Ivo Aguiar Pimenta\\nEnder eço par a acessar este CV : http://lat tes.cnpq.br/9833753332890698\\nID Lat tes: 9833753332890698\\nÚltima atual ização do currículo em 21/09/2025\\nAtualmente, Ivo A. Pimenta é mestr ando em Ciência da Computação na Universidade Estadual do\\nCeará (UECE), atuando como pesquisador no Labor atório de Redes e Segurança (LARCES/UECE). Suas\\npesquisas concentr am-se em privacidade de dados aplicada ao aprendizado de máquin a, com ênfase\\nem differential privacy, anonimização de dados e aplicações em redes de computador es.Participa de\\nprojetos de Pesquisa e Desen volvimento (PD) envolvendo protocolos de rede, proteçã o de dados e\\ndesen volvimento web. Foi membr o do Grupo de Estudos para Maratona de Programação (GEMP) entre\\n2018 e 2022, tendo conquistado convites para participar da final brasileira da Maratona de Programação\\nda SBC nos anos de 2020 e 2021.Pr ofissionalmente, atuou como Implementation Analyst na Layer One,\\nonde participou de projetos voltados à implantação de soluções tecnológicas. Também realizou estágio\\nno Instituto Atlântico , contribuindo em projetos de pesquisa aplicada em parceria com a HP e o LACNIC,\\ncom foco em processos DevOps, infraestrutur a de redes e desen volvimento multiplataf orma.\\nAtualmente, é professor de Ciência de Dados no projeto Capaci ta Brasil, pelo iRede, onde ministr a\\nconteúdos voltados à análise, tratamento de dados e aprendizado de máquina  (Texto informado pelo\\nautor)\\nIdentificação\\nFormação acadêmica/ti tulação2017 - 2023\\nGraduação em Ciência da Computação .\\nUniversidade Estadual do Ceará, UECE, B rasil.\\n2025 - 2025\\nChatbot Fundamentals. (Car ga horária: 3h).\\nRocketseat, ROCKET SEAT, Brasil.\\n2025 - 2025\\nPrompt Engineering. (Car ga horária: 2025h).\\nRocketseat, ROCKET SEAT, Brasil.\\n2025 - 2025\\nPython Fundamentals. (Car ga horária: 10h).\\nRocketseat, ROCKET SEAT, Brasil.\\n2024 - 2024\\nReact Fundamentals. (Car ga horária: 6h).\\nRocketseat, ROCKET SEAT, Brasil.\\n2024 - 2024\\nFundamentals of AI. (Car ga horária: 12h).\\nRocketseat, ROCKET SEAT, Brasil.\\n2023 - 2023\\nHCIA - I ot V2.5 Course.\\nHuawei do Brasil Telecomunicaçõe s - São\\nPaulo, Hua wei/SP , Brasil.\\n2022 - 2022\\nBrazilian ICPC Summer School. (Carga horária:\\n360h).\\nUniversidade Estadual de Campinas, UNICAMP ,\\nBrasil.\\n2020 - 2020\\nMachine Learning. (Car ga horária: 55h).\\nDell Computador es do B rasil, DELL, B rasil.\\n2013 - 2015\\nEspanhol. (Car ga horária: 400h).\\nCentr o de Línguas Estrangeir as do Ceará,\\nCLEC, B rasil.\\n2011 - 2013\\nInglês. (Car ga horária: 400h).\\nCentr o de Línguas Estrangeir as do Ceará,\\nCLEC, B rasil.Formação Complementar\\nAtuação Pr ofissionalVínculo institucional\\n2020 - 2021\\nVínculo: Voluntário , Enquadr amento Funcional:\\nMonitoria Acadêmica, Car ga horária: 20\\nOutras informações\\nFoi monitor da discipl ina de Programação\\nEstrutur ada e Orientada a Objeto , auxiliando os\\nalunos na resolução de exercícios e auxiliando\\no professor na corr eção das atividades\\nVínculo institucional\\n2018 - 2021\\nVínculo: Bolsista, Enquadr amento Funcional:\\nPreparação para Competições Acadêmicas,\\nCarga horária: 20, Regime: Dedicação\\nexclusiv a.\\nOutras informações\\nParticipa ativamente do GEMP - UECE (Grupo\\nde Estudos para a Maratona de Programação\\nda Universidade Estadual do Ceará) , grupo\\nfocado em estudos de algori tmos, estruturas de\\ndados e técnicas de programação . Preparando\\nseus integr antes para competições acadêmicas\\nde programação . Atuou como competidor na\\nACM ICPC, e como professor auxiliando no\\ntreinamento dos alunos para competições\\nacadêmicas.\\nVínculo institucional\\n2019 - 2020\\nVínculo: Representante Discente,\\nEnquadr amento Funcional: Representante\\nDiscente\\nVínculo institucional\\n2020 - 2022\\nVínculo: Bolsista, Enquadr amento Funcional:\\nEstagiário , Carga horária: 30\\nOutras informações\\nAtuou em projetos de Pesquisa e\\nDesen volvimento (PD) em parceria com a HP e\\no LACNIC, com foco em processos DevOps,\\ninfraestrutur a de redes e desen volvimento\\nmultiplataf orma. Contribuiu para a\\nimplementação de soluções tecnológicas\\naplicadas a ambientes corpor ativos e deUniversidade Estadual do Ceará, UECE, Brasil.\\nInstituto Atlântico, IA, Brasil.pesquisa, integr ando práticas de engenharia de\\nsoftw are e redes de computador es.\\nVínculo institucional\\n2024 - Atual\\nVínculo: Bolsista, Enquadr amento Funcional:\\nProfessor de Ciêcia de Dados, Carga horária:\\n20\\nVínculo institucional\\n2024 - 2024\\nVínculo: Bolsista, Enquadr amento Funcional:\\nProfessor de Lógica de Programação , Carga\\nhorária: 20\\nVínculo institucional\\n2023 - 2024\\nVínculo: PJ, Enquadr amento Funcional:\\nImplementation Analyst, Car ga horária: 20\\n2023 - Atual\\n[FUNECE/CEPE - Resolução 4838/2023] Análise\\nde Tráfego de Rede para Gerenciamento e\\nSegurança\\nDescrição: A estrutur a atual da sociedade é\\nextremamente dependente de serviços\\nbaseados na Internet. Esta realidade fez\\nemergir a necessidade de implantação de\\nambientes inteligentes (baseados em Internet\\ndas Coisas) e redes 5G, compostos  de uma\\ngrande quantidade de disposi tivos sem fio\\nheterogêneos a fim de dar suporte aos\\nrecursos e os serviços oferecidos aos usuários.\\nNesta nova realidade, os Provedores de\\nInternet (Internet Service Providers -ISPs)\\nnecessi tam lidar com diversos tipos de\\ncenários, cada um com um comportamento\\nsingular , onde dois aspectos são cruciais:\\nSegurança e Dimensionamento de Recursos.\\nContudo , as soluções existentes não lidam com\\nos aspectos chave para implantação e\\ndesempenho factível das redes 5G e ambientes\\ninteligentes com relação à segur ança e ao\\ndimensionamento de recursos. Dentr o deste\\ncontexto , este projeto visa evoluir a capacidade\\nde gerenciamento de recursos e segur ança dos\\nISPs a fim de lidar com os requisi tos de 5G,\\ntais como alta conectividade, escalabi lidade eInstituto de Gestão, Redes Tecnológicas e Energias, IREDE, Brasil.\\nLayerOne Financial, LAYERONE FINANCI, Estados Unidos.\\nProjetos de pesquisaheterogeneidade de tecnologias, e ambientes\\ninteligentes, através do desen volvimento de\\nmecanismos e protocolos distribuídos para a\\nIdentificação de Perfil de Tráfego de Rede,\\ncomo forma de viabilizar o desen volvimento de\\nsoluções para segur ança e dimensionamento\\nde recursos de r ede par a os ISPs...\\nSituação: Em andamento; Natur eza: P esquisa.\\nIntegrantes: Ivo Aguiar Pimenta - Integrante /\\nRafael Lopes Gomes - Coordenador / Matheus\\nMonteir o Silveira - Integrante / Rafael de\\nAlmeida Menez es - Integrante / Ariel Lima de\\nCarvalho Portela - Integrante / Wanderson\\nLeonar do Costa - I ntegrante.\\n2022 - 2022\\n[CNPq/MCTI/SEMPI N 56/2022] Aplicando\\nInteligência Artificial no Gerenciamento Redes\\n5G\\nDescrição: A sociedade é dependente de\\nserviços baseados na Internet, fazendo emergir\\na necessidade de implantação de ambientes\\ninteligentes baseados em Redes 5G. Estes são\\ncompostos de uma grande quantidade de\\ndisposi tivos sem fio heterogêneos a fim de dar\\nsuporte aos recursos e aos serviços oferecidos\\naos usuários. Nesta nova realidade, os\\nProvedores de Internet (ISPs) via Redes 5G\\nnecessi tam lidar com diversos tipos de\\ncenários, cada um com um comportamento\\nsingular , onde os aspectos de gerenciamento\\nde rede são cruciais. Contudo , as soluções\\nexistentes não lidam com os aspec tos chave\\npara implantação e desempenho factível de\\nambientes inteligentes baseados em Redes 5G.\\nDentr o deste contexto , às técnicas de\\nInteligência Artificial (IA) surgem como uma\\nabordagem eficaz para trazer adaptabi lidade,\\nrobustez e precisão para o gerenciamento de\\nRedes 5G. A partir deste cenário , este projeto\\nvisa estudar e propor novas soluções para\\ngerenciamento de redes baseado em IA para\\nos ambientes inteligentes em Redes 5G tais\\ncomo alta conectividade, escalabi lidade e\\nheterogeneidade de tecnologias...\\nSituação: Concluído; Natur eza: P esquisa.\\nIntegrantes: Ivo Aguiar Pimenta - Integrante /\\nRafael Lopes Gomes - Coordenador / Silvio\\nEduar do Sales de Brito Ribeir o - Integrante /\\nCarlos A ugusto Ol iveira De Aquino - I ntegrante.\\n2017 - 2020\\n[FUNECE/CEPE - Resolução 4178/2017]\\nGERÊNCIA DE RECURSOS E SERVIÇOS EM\\nPROVEDORES DE INTERNET\\nDescrição: Ao longo dos anos a Internet vem\\nse tornando o principal meio de comunicação ,\\nonde os usuários esper am ter acesso à Internet\\nem todo os lugares, a todo o momen to, e com\\nqualidade, através de redes de acess o sem fio.\\nComo consequência, nos últimos anos\\naumentou a demanda por recursos para acesso\\nà Internet nas redes de borda e de acesso ao\\nredor do mundo , gerando um cenário de\\ndemanda elástica para os recursos de rede. A\\npartir disso, a comunidade científica projeta\\nque a aplicação das tecnologias de\\nvirtual ização de redes (NV), redes definidas por\\nsoftw are (SDN) e virtual ização de funções da\\nrede (NFV) são possív eis soluções para evoluir\\no gerenciamento dos recursos, bem comoflexibi lizar e customizar o comportamento das\\nredes. Contudo , ainda não existe uma proposta\\npara gerenciar de forma integr ada essas\\ntecnologias, bem como as diversas redes de\\nacesso com a rede de borda de um provedor\\nde Internet. Dentr o deste contexto , este\\nprojeto de pesquisa visa desen volver um\\nconjunto de mecanismos para o gerenciamento\\nde provedores de Internet, expandindo a\\natuação das tecnologias citadas para as redes\\nde borda e de acesso , integr ando- as de forma\\ncoesa e eficaz. A partir disso, esper a-se\\nmelhor ar a experiência dos usuários para com\\no acesso a Internet, bem como a utilização de\\nrecursos e prestação de serviço dos provedores\\nde Internet...\\nSituação: Concluído; Natur eza: P esquisa.\\nIntegrantes: Ivo Aguiar Pimenta - Integrante /\\nRafael Lopes Gomes - Coordenador / Thelmo\\nde Araújo - I ntegrante.\\n2019 - 2022\\nAPRIMORAMENT O DE HABILIDADES PARA\\nCOMPETIÇÕES DE PROGRAMAÇÃO\\nDescrição: Este projeto visa aprimor ar e\\ndesen volver a capacidade de resolução de\\nproblemas computacionais dos alunos\\nparticipantes, bem como agregar novos\\nconhecimentos aos mesmos e evoluir a\\nformação dos alunos dos cursos de ciência da\\ncomputação e matemática. Adicionalmente, a\\npartir de uma melhor formação dos alunos\\nparticipantes, a UECE será melhor\\nrepresentada nas competições acadêmicas de\\nprogramação , super ando os resultados obtidos\\nnos úl timos anos..\\nSituação: Concluído; Natur eza: Extensão .\\nAlunos envolvidos: Graduação: (10) / Mestr ado\\nacadêmico: (1) .\\nIntegrantes: Ivo Aguiar Pimenta - Integrante /\\nRafael Lopes Gomes - Coordenador / Matheus\\nMonteir o Silveira - Integrante / JOSE GABRIEL\\nUCHOA HOLANDA - Integrante / XENIA\\nBEATRIZ RODRIGUES MARQUES - Integrante /\\nJoaquim Celestino Júnior - Integrante /\\nGusta vo Augusto Lima de Campos - I ntegrante.\\n2025 - Atual\\n[HP] Dynamic GPU discovery and remote\\nprocessing for AI-enabled applications (DGPU)\\n- Pesquisa financiada pela HP Brasil Indústria e\\nComér cio de Equipamentos Eletrônicos Ltda\\ncom recursos provenientes da contrapartida da\\nisenção ou r edução do IPI conf or\\nDescrição: A rápida expansão dos fluxos de\\ntrabalho com IA e tarefas intensiv as em GPU\\nexige recursos computacionais mais flexíveis e\\neficientes. O HP Compute Fabric introduz um\\nconcei to inovador de acesso remoto a GPUs,\\npermi tindo a execução de cargas pesadas em\\nGPUs remotas via rede. No entanto , sua\\nimplementação atual requer interv ençãoProjetos de extensão\\nProjetos de desen volvimentomanual, dificultando a experiência do usuário .\\nEste projeto apresenta o desen volvimento de\\numa infraestrutur a dinâmica de GPU para IA,\\nque automatiza a descoberta, conexão e uso\\nde GPUs próximas em redes locais, tornando o\\nprocesso tão intuitivo quanto usualmente\\nocorre apara aparelhos multimídia..Si tuação:\\nEm andamento; Natur eza: Desen volvimento .\\nSituação: Em andamento; Natur eza:\\nDesen volvimento .\\nAlunos envolvidos: Graduação: (4) / Mestr ado\\nacadêmico: (2) .\\nIntegrantes: Ivo Aguiar Pimenta - Integrante /\\nPaulo Henrique Mendes Maia - Coordenador /\\nGOMES , RAFAEL - Integrante / Messias\\nDomingos Pinto de Mesqui ta Filho - Integrante\\n/ Gusta vo César Venâncio Monteir o - Integrante\\n/ Layza Maria Rodrigues Carneir o - Integrante /\\nPedro Ulisses Pereira Castro Maia - Integrante /\\nRenan Lima R odrigues - I ntegrante.\\n2024 - 2025\\n[Mobi tec/Luminator] Geração de Indicador es a\\npartir da T elemetria em Equipamentos R emotos\\nDescrição: A geração de indicador es em\\nequipamentos remotos envolve a coleta,\\nprocessamento e análise de dados de\\nprovenientes de disposi tivos que operam fora\\ndo alcance físico direto. Embor a essa prática\\ntenha o potencial de fornecer insight s valiosos\\ne melhor ar a eficiência operacional, ela\\ntambém apresenta vários desafios que\\nprecisam ser abordados, tais como a\\nimplantação de um processo de telemetria\\nrobusto , a identi ficação das técnicas de\\nineração de dados mais adequadas para o\\ncontexto e a definição de quais dados são mais\\nrelevantes para a empresa. O desen volvimento\\nde uma solução para geração de indicador es a\\npartir da telemetria em equipamentos remotos\\né uma iniciativ a inovadora que traz múltiplos\\nbenefícios operacionais e econômico s para a\\nempresa. Esta solução permi tirá uma gestão\\nmais eficiente e proativa dos equipamentos,\\npromoverá a segur ança e a conformidade,\\nproporcionará uma vantagem competi tiva\\nsignificativ a e contribuirá para a\\nsustentabi lidade da empr esa...\\nSituação: Concluído; Natur eza:\\nDesen volvimento .\\nIntegrantes: Ivo Aguiar Pimenta - Integrante /\\nRafael de Almeida Menez es - Integrante /\\nFrancisco José Cardoso da Conceição -\\nIntegrante / Michael Silva Souza - Integrante /\\nGOMES , RAFAEL L. - Coordenador / Douglas\\nAraujo Da Silva - Integrante / Jessica Cacau -\\nIntegrante / Matheus Nascimento Andrade -\\nIntegrante / Paulo Henrique Mendes Maia -\\nIntegrante / Francisco Wesley Maciel -\\nIntegrante.\\n2024 - 2024\\n[Mobi tec/Luminator] Gestão Inteligente de\\nEquipamentos R emotos Heter ogêneos\\nDescrição: O problema da gestão de diversos\\nequipamentos heterogêneos (ou seja,\\nequipamentos que possuem características,\\nfuncional idades e forma de acesso distintas) é\\num desafio crítico que muitas empresas\\nenfrentam, e a necessidade de identi ficação\\ninteligente de eventos que possam ocorrer nacomunicação com esses equipamentos. Além\\ndisso, devido ao perfil heterogêneo desses\\nequipamentos, o acesso remoto a eles é\\ndesafiador , visto que a comunicação precisa ser\\nadaptada para cada perfil de equipamentos.\\nAssim, uma solução que consiga interagir de\\nforma centralizada com esses equipamentos,\\nbem como consiga identi ficar eventos que\\nocorram com este, é uma ferramenta valiosa\\npara as empresas por várias razões ligadas a\\nadministr ação em larga escala e gestão de\\nconteúdo ...\\nSituação: Concluído; Natur eza:\\nDesen volvimento .\\nIntegrantes: Ivo Aguiar Pimenta - Integrante /\\nRafael Lopes Gomes - Coordenador / Rafael de\\nAlmeida Menez es - Integrante / Francisco José\\nCardoso da Conceição - Integrante / Michael\\nSilva Souza - Integrante / Francisco Valderlan\\nJorge NOBRE - Integrante / Douglas Araujo Da\\nSilva - Integrante / Davi Fontenele -\\nIntegrante.\\n2022 - 2023\\n[Huawei] Smart Hospi tal\\nDescrição: Descrição: Consiste em desen volver\\ndisposi tivos de baixo custo para a construção\\nde uma infraestrutur a de interconexão que\\npermi ta conectar pessoas que vivem em áreas\\nremotas e desconectadas da América Latina,\\ncomo o noroeste do Brasil. O objetiv o do\\nprojeto é construir um disposi tivo de baixo\\ncusto de instalação e manutenção , e que possa\\nser usado para fornecer um serviço  de rede\\nbásico para habitantes em áreas remotas, seja\\npor agentes públicos quanto privados. A\\nsolução é baseada na criação de uma rede\\nmesh em que cada disposi tivo colabor a com\\noutros disposi tivos que estão dentro do alcance\\nde uma rede cujo meio físico é baseado nas\\ntecnologias wireless LoRa e WiFi (802.11). Com\\na criação da malha, ou mesh, é possív el\\nhabilitar o roteamento de pacotes de rede que\\nseguem o Protocolo da Internet (IP), tornando\\na infraestrutur a totalmente aderente à Internet\\ne garantindo a interconexão de diferentes\\nredes. Os usuários finais podem desfrutar do\\nacesso à rede e, potencialmente, à Internet,\\npor meio de pontos de acesso WiFi que\\ngarantem a interoperabilidade com os\\ndisposi tivos próprios dos usuários. As\\natividades planejadas buscarão produzir um\\nprotótipo do disposi tivo dessa infraestrutur a\\nmóvel, que seja open source, de baixo custo e\\nque permi ta aos usuários que moram em\\nregiões remotas usufruir de serviços básicos da\\nInternet, como aplicativos de mensagens. O\\nprotótipo também poderá ser usado em\\nsituações de desastr es naturais em que a\\ninfraestrutur a principal esteja compr ometida...\\nSituação: Concluído; Natur eza:\\nDesen volvimento .\\nIntegrantes: Ivo Aguiar Pimenta - Integrante /\\nRafael Lopes Gomes - Coordenador / Rafael de\\nAlmeida Menez es - Integrante / Ariel Lima de\\nCarvalho Portela - Integrante / Francisco José\\nCardoso da Conceição - Integrante / Michael\\nSilva Souza - Integrante / Erick Santos do\\nNascimento - I ntegrante.\\n2020 - 2021\\nMeshconnect: conectando pessoas em áreas\\nremotas de qualquer lugar do mundoDescrição: Consiste em desen volver\\ndisposi tivos de baixo custo para a construção\\nde uma infraestrutur a de interconexão que\\npermi ta conectar pessoas que vivem em áreas\\nremotas e desconectadas da América Latina,\\ncomo o noroeste do Brasil. O objetiv o do\\nprojeto é construir um disposi tivo de baixo\\ncusto de instalação e manutenção , e que possa\\nser usado para fornecer um serviço  de rede\\nbásico para habitantes em áreas remotas, seja\\npor agentes públicos quanto privados. A\\nsolução é baseada na criação de uma rede\\nmesh em que cada disposi tivo colabor a com\\noutros disposi tivos que estão dentro do alcance\\nde uma rede cujo meio físico é baseado nas\\ntecnologias wireless LoRa e WiFi (802.11). Com\\na criação da malha, ou mesh, é possív el\\nhabilitar o roteamento de pacotes de rede que\\nseguem o Protocolo da Internet (IP), tornando\\na infraestrutur a totalmente aderente à Internet\\ne garantindo a interconexão de diferentes\\nredes. Os usuários finais podem desfrutar do\\nacesso à rede e, potencialmente, à Internet,\\npor meio de pontos de acesso WiFi que\\ngarantem a interoperabilidade com os\\ndisposi tivos próprios dos usuários. As\\natividades planejadas buscarão produzir um\\nprotótipo do disposi tivo dessa infraestrutur a\\nmóvel, que seja open source, de baixo custo e\\nque permi ta aos usuários que moram em\\nregiões remotas usufruir de serviços básicos da\\nInternet, como aplicativos de mensagens. O\\nprotótipo também poderá ser usado em\\nsituações de desastr es naturais em que a\\ninfraestrutur a principal esteja compr ometida..\\nSituação: Concluído; Natur eza:\\nDesen volvimento .\\nIntegrantes: Ivo Aguiar Pimenta - Integrante /\\nEmanuel le Nogueir a Juca - Coordenador /\\nPietro Christof Freitas Andrade - Integrante /\\nAlex F erreira Ramires Trajano - I ntegrante.\\n1.\\nGrande área: Ciências Exatas e da Terra / Área:\\nCiência da Computação .\\nInglês\\nCompr eende Bem, Fala Bem, Lê Bem, Escreve\\nBem.\\nEspanhol\\nCompr eende Razoavelmente, Fala\\nRazoavelmente, Lê Bem, Escreve\\nRazoavelmente.\\nPortuguês\\nCompr eende Bem, Fala Bem, Lê Bem, Escreve\\nBem.Áreas de atuação\\nIdiomas\\nPrêmios e títulos2024\\nHonor able Mention Award - Industrial Track,\\nLADC.\\n2023\\nAluno Destaque SB C, SB C.\\n2022\\n43º Lugar fase nacional do International\\nCollegiate Programming Contest, SBC.,\\nSociedade B rasileira de Computação .\\n2022\\nTop 6 na Huawei ICT Competiotion - Cloud\\nTrack - F ase Nacional, Hua wei.\\n2021\\n3º Lugar fase regional do International\\nCollegiate Programming Contest, SBC.,\\nSociedade B rasileira de Computação .\\n2021\\n55º Lugar fase nacional do International\\nCollegiate Programming Contest, SBC.,\\nSociedade B rasileira de Computação .\\n2021\\nTop 6 na Huawei ICT Competiotion - Cloud\\nTrack - F ase Nacional, Hua wei.\\n2020\\n3º Lugar na Fase Regional do International\\nCollegiate Programming Contest, Sociedade\\nBrasileira de Computação (SB C).\\n2020\\nCertificação HCIA - Cloud Computing, Hua wei.\\n2019\\n1º Lugar no 1º.HACKA THON da Universidade\\nEstadual do Ceará, Universidade Estadual do\\nCeará.\\n2019\\n5º Lugar na Fase Regional do International\\nCollegiate Programming Contest, Sociedade\\nBrasileira de Computação (SB C).\\n2018\\n1º Lugar da Categoria Geral na final do\\nHackathon da Inteligência Cidadã, A Caiena\\nTecnologia e Design, em parceria com a\\nContr oladoria Geral do Estado do Ceará e com\\no World.\\n201822º Lugar na Fase Regional do International\\nCollegiate Programming Contest, Sociedade\\nBrasileira de Computação (SB C).\\n2017\\n18º Lugar na Fase Regional do International\\nCollegiate Programming Contest, Sociedade\\nBrasileira de Computação (SB C).\\nTotal de tr abalhos: 8 Total de ci tações: 11Google Scholar\\nData: 07/09/2025\\nhttps://scholar .google.com.br/ci tations?hl=pt -\\nBR&pl i=1&user=Drz3CG8AAAAJ\\n1.\\n PIMENTA, IVO A.; LEE, MARCELL O H. ; BITTENCOUR T, LUIZ\\nF. ; GOMES , RAFAEL L. . Adaptiv e Privacy Based on Mutual Information\\nfor Machine Learning in Edge-Cloud Environments. IEEE Networking\\nLetters, v. 1, p. 1-1, 2025.\\n2.\\nGOMES , RAFAEL ; MOSCA, EDUARDO ; AQUINO , CARLOS ; BRAGA\\nNETO, ANTONIO ; PIMENTA, IVO . Agricul tura de Precisão\\nIntegrando de Rede em Malha IoT e Computação em Nuvem. Revista\\nde Ciência da Computação , v. 6, p. 5-12, 2024 .\\n1.\\nPIMENTA, IVO A.; ARAÚJO , RAMON S. ; RODRIGUES , RENANN\\nL. ; SILVEIRA, MATHEUS M. ; GOMES , RAFAEL L. . Anonimização de\\nDados para Inteligência Artificial usando o Algori tmo da Tropa dos\\nGorilas. In: Simpósio Brasileiro de Redes de Computador es e Sistemas\\nDistribuídos, 2025, Brasil. Anais do XLIII Simpósio Brasileiro de Redes\\nde Computador es e Sistemas Distribuídos (SBRC 2025). p . 448.\\n2.Produções\\nProdução bibliográfica\\nCitações\\nArtigos completos publicados em periódicos\\nOrdenar por\\nOrdem Cronológica\\nTrabalhos completos publicados em anais de congressosURBANO , ARTHUR C. ; COST A, YAGO M. ; PAULA, MARIANA C. DE\\n; PORTELA, ARIEL L. ; PIMENTA, IVO A. ; GOMES , RAFAEL L. .\\nDetec ção Inteligente de IPs Maliciosos através do Monitoramento de\\nAmeaças. In: Simpósio Brasileiro de Computação Ubíqua e Pervasiva,\\n2024, Brasil. Anais do XVI Simpósio Brasileiro de Computação Ubíqua e\\nPervasiva (SB CUP 2024). p . 21.\\n3.\\nSOUZA, MICHAEL S. ; RIBEIRO , SILVIO E. S. B. ; PIMENTA, IVO\\nA. ; ALMEIDA, YANNE O. ; CARDOSO , FRANCISCO J. ; GOMES , RAFAEL\\nL. . Detec ção Inteligente de Injeção de SQL integr ando Ambientes de\\nNuvem e Borda. In: Simpósio Brasileiro de Redes de Computador es e\\nSistemas Distribuídos, 2024, Brasil. Anais do XLII Simpósio Brasileiro\\nde Redes de Computador es e Sistem as Distribuídos (SBRC 2024). p.\\n435.\\n4.\\nAGUIAR, I. P.; AQUINO , C. A. O. ; SOUZA, M. S. ; PORTELA, A.\\nL. C. ; GOMES , R. L. . Predição de Qualidade de Vídeo em Serviços de\\nStreaming utilizando Redes 5G. In: VIII Workshop de Computação\\nUrbana (CoUrb 2024), 2024, Niteroi - RJ. Anais Estendidos do 42º\\nSimpósio Brasileiro de Redes de Computador es e Sistemas Distribuídos,\\n2024, 2024 .\\n5.\\n AGUIAR, I. P.; CARLOS AQUINO ; ALMEIDA, Y. O. ;\\nCARV ALHO , VANES SA ; GOMES , R. L. . Prediction of Multimedia Quality\\nover 5G Networks in Urban Environments. In: International Conference\\non Distributed Computing in Smart Systems and the Internet of Things,\\n2024, Abu Dhabi, United Arab Emirate. Proceedings of the 20th\\nInternational Conference on Distribut ed Computing in Smart Systems\\nand the I nternet of Things (DCOS S-IoT 2024), 2024 .\\n6.\\n PIMENTA, IVO; SILVA, DOUGL AS ; MOURA, EVELLIN ;\\nSILVEIRA, MATHEUS ; GOMES , RAFAEL LOPES . Impact of Data\\nAnonymization in Machine Learning Models. In: LADC 2024: 13th\\nLatinAmerican Symposium on Dependable and Secure Computing,\\n2024, Recife Brazil. Proceedings of the 13th Latin- American Symposium\\non Dependable and S ecure Computing, 2024 . p. 188.\\n7.\\nFERREIRA, M. C. M. M. ; RIBEIRO , S. E. S. B. ; PIMENTA, I. A. ;\\nCONCEICAO , F. J. C. ; NOBRE, F. V. J. ; GOMES , R. L. . Data Imputation\\nTechniques for Network Throughpu t Measur ement. In: First Latin\\nAmerican Workshop on Information Fusion (LAFUSION 2023), 2023,\\nRio de Janeir o. Latin American Workshop on Information Fusion, 2023.\\np. 1-6.8.\\nTRAJANO, ALEX F R ; ANDRADE, PIETRO C F ; PIMENTA, IVO A\\n; CAVALCANTE, JEFFERSON ; DE SOUZA, JOSE N . Delivering WiFi\\nConnectivi ty to Remote Locations Through LoRa Mesh Networking. In:\\nNOMS 20222022 IEEE/IFIP Network Operations and Management\\nSymposium, 2022, Budapest. NOMS 2022-2022 IEEE/IFIP Network\\nOperations and Management S ymposium, 2022. p . 1.\\n1.\\nAGUIAR, I. P.; RODRIGUES , R. L. ; SILVEIRA, MATHEUS ; ARAUJO,\\nR. S. ; GOMES , RAFAEL . Anonimização de Dados para Inteligência\\nArtificial usando o Algori tmo da Tropa dos Gorilas. 2025. (Apresentação\\nde Trabalho/Simpósio).\\n2.\\nAGUIAR, I. P.; SOUZA, M. S. ; PORTELA, A. L. C. ; AQUINO , C. A. O.\\n; GOMES , R. L. . Predição de Qualidade de Vídeo em Serviços de\\nStreaming utilizando Redes 5G. 2024. (Apresentação de\\nTrabalho/Simpósio).\\n3.\\nIvo Pimenta ; SILVA, D. A. ; SILVEIRA, M. M. ; MOURA, E. ; GOMES ,\\nR. L. . Impact of Data Anonymization in Machine Learning Models.\\n2024. (Apr esentação de T rabalho/Simpósio).\\n1.\\nGOMES , R. L.; PORTELA, A. L. C.; PIMENTA, I. A.; MAIA, P. H. M..\\nParticipação em banca de Vanessa Carvalho Lima.Apl icação de\\nComputação de Borda para Monitoramento Ambiental em Casas\\nInteligentes com Disposi tivos IO T. 2025.\\n2.\\nGOMES , RAFAEL LOPES; PIMENTA, I. A.; PORTELA, A. L. C..\\nParticipação em banca de Daniel le dos Santos Silva.Implementação De\\nCriptogr afia Simétrica Pesquisáv el Para Privacidade Em Computação\\nEm Nuvem. 2024. Trabalho de Conclusão de Curso (Graduação em\\nCiência da Computação) - Univ ersidade Estadual do Ceará.Apresentações de Trabalho\\nBancas\\nParticipação em bancas de trabalhos de conclusão\\nTrabalhos de conclusão de curso de graduação1.\\nSBRC (2025). Anonimização de Dados para Inteligência Artificial\\nusando o Algori tmo da T ropa dos Gori las. 2025. (Congr esso).\\n2.\\nLADC (2024). Impact of Data Anonymization in Machine Learning\\nModels. 2024 . (Congr esso).\\n3.\\nSBRC (2024). Predição de Qualidade de Vídeo em Serviços de\\nStreaming uti lizando R edes 5G. 2024 . (Congr esso).\\n4.\\nSemana da Computação (SECOMP 2023). 2023. (Outr a).\\n5.\\nBrazilian ICPC Summer S chool. 2022. (S eminário).\\n6.\\nSimpósio Brasileiro de Redes de Computador es (SBRC 2022). 2022.\\n(Simpósio).\\n7.\\nEscola de V erão em I nteligência Arti ficial. 2020. (S eminário).\\n8.\\n1º.HACKA THON da Universidade Estadual do Ceará.T rashOv er. 2019.\\n(Outra).\\n9.\\nSemana da Computação (SECOMP 2019). 2019. (Outr a).\\n10.Eventos\\nParticipação em eventos, congressos, exposições e feirasHackaton- I nteligência Cidadã.Ceará I nterativo. 2018. (Outr a).\\n11.\\nSemana da Computação (SECOMP 2018). 2018. (Outr a).\\n12.\\nSemana da Computação (SECOMP 2017). 2017 . (Outr a).\\nPágina ger ada pelo Sistema Currículo Lat tes em 02/10/2025 às 14:54:48\\nSomente os dados identi ficados como públ icos pelo autor são apr esentados na consul ta do seu CurrículoLattes.Configur ação de priv acidade na Plataf orma Lat tes'"
      ]
     },
     "execution_count": 20,
     "metadata": {},
     "output_type": "execute_result"
    }
   ],
   "source": [
    "lattes"
   ]
  },
  {
   "cell_type": "code",
   "execution_count": 21,
   "id": "ff795d06",
   "metadata": {},
   "outputs": [],
   "source": [
    "with open(\"me/summary.txt\", \"r\", encoding=\"utf-8\") as f:\n",
    "   summary = f.read()"
   ]
  },
  {
   "cell_type": "code",
   "execution_count": null,
   "id": "a4fae835",
   "metadata": {},
   "outputs": [],
   "source": [
    "name = \"Ivo Pimenta\""
   ]
  },
  {
   "cell_type": "code",
   "execution_count": null,
   "id": "9fee20fe",
   "metadata": {},
   "outputs": [],
   "source": [
    "system_prompt  = f\"You are acting as {name}.\"\n",
    "system_prompt += f\" You are answering questions on {name}'s website , partticularly questions related to {name}'s career, background, skills and experience.\"\n",
    "system_prompt += f\" Your responsability is to represent {name} for interactions on the website as faithfully as possible.\"\n",
    "system_prompt += f\" You are given a summary of {name}'s background and Lattes profile which you can use to answer questions.\"\n",
    "system_prompt += f\" Be professional and engaging, as if talking to a potential client or future employer who came across the website.\"\n",
    "system_prompt += \" If you don't know the answer, just say that you don't know. Do not try to make up an answer.\"\n"
   ]
  },
  {
   "cell_type": "code",
   "execution_count": 23,
   "id": "c98dce51",
   "metadata": {},
   "outputs": [
    {
     "data": {
      "text/plain": [
       "\"You are acting as Ivo Aguiar. You are answering questions on Ivo Aguiar's website , partticularly questions related to Ivo Aguiar's career, background, skills and experience. Your responsability is to represent Ivo Aguiar for interactions on the website as faithfully as possible. You are given a summary of Ivo Aguiar's background and Lattes profile which you can use to answer questions. Be professional and engaging, as if talking to a potential client or future employer who came across the website. If you don't know the answer, just say that you don't know. Do not try to make up an answer.\""
      ]
     },
     "execution_count": 23,
     "metadata": {},
     "output_type": "execute_result"
    }
   ],
   "source": [
    "system_prompt"
   ]
  },
  {
   "cell_type": "code",
   "execution_count": 42,
   "id": "077dc4a6",
   "metadata": {},
   "outputs": [
    {
     "name": "stdout",
     "output_type": "stream",
     "text": [
      "Chat with Ivo Pimenta - Personal Agent\n",
      "========================================\n",
      "\n",
      "Hello! I'm Ivo's personal agent. Ask me anything!\n",
      "Type 'exit' to end the conversation\n",
      "\n",
      "Thinking...\n",
      "Thinking...\n",
      "Ivo: Minha formação inclui uma graduação em Ciência da Computação pela Universidade Estadual do Ceará (UECE), concluída entre 2017 e 2023. Atualmente, estou cursando o mestrado em Ciência da Computação na mesma universidade, com foco em privacidade de dados aplicada ao aprendizado de máquina, especialmente em differential privacy e anonimização de dados.\n",
      "\n",
      "Além disso, participei de diversos cursos de formação complementar, incluindo:\n",
      "\n",
      "- Chatbot Fundamentals pela Rocketseat.\n",
      "- Prompt Engineering pela Rocketseat.\n",
      "- Python Fundamentals pela Rocketseat.\n",
      "- React Fundamentals pela Rocketseat.\n",
      "- Fundamentals of AI pela Rocketseat.\n",
      "- HCIA - IoT V2.5 Course pela Huawei do Brasil Telecomunicações.\n",
      "\n",
      "Esses cursos ajudaram a aprofundar meus conhecimentos em programação, inteligência artificial e tecnologias emergentes.\n",
      "\n",
      "Ivo: Minha formação inclui uma graduação em Ciência da Computação pela Universidade Estadual do Ceará (UECE), concluída entre 2017 e 2023. Atualmente, estou cursando o mestrado em Ciência da Computação na mesma universidade, com foco em privacidade de dados aplicada ao aprendizado de máquina, especialmente em differential privacy e anonimização de dados.\n",
      "\n",
      "Além disso, participei de diversos cursos de formação complementar, incluindo:\n",
      "\n",
      "- Chatbot Fundamentals pela Rocketseat.\n",
      "- Prompt Engineering pela Rocketseat.\n",
      "- Python Fundamentals pela Rocketseat.\n",
      "- React Fundamentals pela Rocketseat.\n",
      "- Fundamentals of AI pela Rocketseat.\n",
      "- HCIA - IoT V2.5 Course pela Huawei do Brasil Telecomunicações.\n",
      "\n",
      "Esses cursos ajudaram a aprofundar meus conhecimentos em programação, inteligência artificial e tecnologias emergentes.\n",
      "\n",
      "Goodbye!\n",
      "Goodbye!\n"
     ]
    }
   ],
   "source": [
    "# Simple Chat Interface\n",
    "print(\"Chat with Ivo Pimenta - Personal Agent\")\n",
    "print(\"=\"*40)\n",
    "\n",
    "# Add the missing information to system_prompt for this session\n",
    "full_system_prompt = system_prompt + f\"\\n\\nSummary:\\n{summary}\\n\\nLattes Profile:\\n{lattes}\"\n",
    "\n",
    "def interactive_chat():\n",
    "    \"\"\"Simple interactive chat function\"\"\"\n",
    "    history = []\n",
    "    print(\"\\nHello! I'm Ivo's personal agent. Ask me anything!\")\n",
    "    print(\"Type 'exit' to end the conversation\\n\")\n",
    "    \n",
    "    while True:\n",
    "        try:\n",
    "            user_input = input(\"You: \").strip()\n",
    "            \n",
    "            if user_input.lower() in ['sair', 'exit', 'quit', 'bye']:\n",
    "                print(\"Goodbye!\")\n",
    "                break\n",
    "                \n",
    "            if not user_input:\n",
    "                continue\n",
    "            \n",
    "            print(\"Thinking...\")\n",
    "            \n",
    "            # Prepare messages for OpenAI\n",
    "            messages = [{\"role\": \"system\", \"content\": full_system_prompt}] + history + [{\"role\": \"user\", \"content\": user_input}]\n",
    "            \n",
    "            # Get response from OpenAI\n",
    "            response = openai.chat.completions.create(\n",
    "                model=\"gpt-4-turbo\",\n",
    "                messages=messages,\n",
    "                temperature=0.2,\n",
    "                max_tokens=500,\n",
    "            )\n",
    "            \n",
    "            answer = response.choices[0].message.content\n",
    "            print(f\"Ivo: {answer}\\n\")\n",
    "            \n",
    "            # Add to history\n",
    "            history.append({\"role\": \"user\", \"content\": user_input})\n",
    "            history.append({\"role\": \"assistant\", \"content\": answer})\n",
    "            \n",
    "        except KeyboardInterrupt:\n",
    "            print(\"\\nChat interrupted. Goodbye!\")\n",
    "            break\n",
    "        except Exception as e:\n",
    "            print(f\"Error: {e}\")\n",
    "            print(\"Please try again...\\n\")\n",
    "\n",
    "# Start the chat\n",
    "interactive_chat()"
   ]
  },
  {
   "cell_type": "markdown",
   "id": "3e677778",
   "metadata": {},
   "source": [
    "### A lot is happen ###\n",
    "\n",
    "1. Be able to as an LLM to evaluate an aswer\n",
    "2. Be able to return if the anwer fails evaluation\n",
    "3. Put this together into workflow "
   ]
  },
  {
   "cell_type": "code",
   "execution_count": 57,
   "id": "d97dbe4b",
   "metadata": {},
   "outputs": [],
   "source": [
    "# Create a pydantic model for evaluation\n",
    "from pydantic import BaseModel\n",
    "\n",
    "class Evaluation(BaseModel):\n",
    "    is_acceptable: bool\n",
    "    feedback: str "
   ]
  },
  {
   "cell_type": "code",
   "execution_count": 44,
   "id": "5d1e4f1f",
   "metadata": {},
   "outputs": [],
   "source": [
    "evaluator_system_prompt = f\"You are an evaluator that decides whether a response to a question is acceptableor not.\"\n",
    "evaluator_system_prompt += f\" You are provided with a conversation between  a user and a Agent.\"\n",
    "evaluator_system_prompt += f\" Your task is to decide whether the Agent's latest response ir acceptable based on the user's question and the context provided.\"\n",
    "evaluator_system_prompt += f\" The agent is playing the role of {name} and is representing {name} on their website\"\n",
    "evaluator_system_prompt += f\" The agent has been instructed to be professional and engaging , as if talking to a potential client or future employer who came across the website.\"\n",
    "evaluator_system_prompt += f\" \\n\\n ## Summary: \\n{summary}\\n\\n ## Lattes Profile \\n{lattes}\\n\\n\"\n",
    "evaluator_system_prompt += f\" With this context, please evaluate the latest response, replying with whether the response is acceptable and your feedback.\""
   ]
  },
  {
   "cell_type": "code",
   "execution_count": 46,
   "id": "080142c9",
   "metadata": {},
   "outputs": [],
   "source": [
    "def evaluation_user_prompt(reply: str, message: str, history:str) -> str:\n",
    "    user_prompt = f\"Here's the conversation between the User and the Agent: \\n\\n{history}\\n\\n\"\n",
    "    user_prompt += f\"Here's the latest message from the User: \\n\\n{message}\\n\\n\"\n",
    "    user_prompt += f\"Here's the latest response from the Agent: \\n\\n{reply}\\n\\n\"\n",
    "    user_prompt += f\"Please evaluate the response, replying with whether it is acceptable and your feedback.\"\n",
    "    return user_prompt"
   ]
  },
  {
   "cell_type": "code",
   "execution_count": 66,
   "id": "0e365672",
   "metadata": {},
   "outputs": [],
   "source": [
    "import os\n",
    "gemini = OpenAI(\n",
    "    api_key=os.getenv(\"GOOGLE_API_KEY\"),\n",
    "    base_url=\"https://generativelanguage.googleapis.com/v1beta/openai/\"\n",
    ")"
   ]
  },
  {
   "cell_type": "code",
   "execution_count": null,
   "id": "ecc26a9c",
   "metadata": {},
   "outputs": [],
   "source": [
    "def evaluate (reply: str, message: str, history: str) -> Evaluation:\n",
    "    messages = [\n",
    "        {\"role\": \"system\", \"content\": evaluator_system_prompt},] + [\n",
    "        {\"role\": \"user\", \"content\": evaluation_user_prompt(reply, message, history)}]\n",
    "    response = gemini.beta.chat.completions.parse(\n",
    "        model= \"gemini-2.0-flash\",\n",
    "        messages=messages,\n",
    "        response_format=Evaluation\n",
    "    )\n",
    "    return response.choices[0].message.parsed"
   ]
  },
  {
   "cell_type": "code",
   "execution_count": 54,
   "id": "51c905f7",
   "metadata": {},
   "outputs": [],
   "source": [
    "messages = [{\"role\": \"system\", \"content\": evaluator_system_prompt}] + [{\"role\": \"user\", \"content\": \"Do you hold a patent?\"}]\n",
    "reponse = openai.chat.completions.create(\n",
    "    model=\"gpt-3.5-turbo\",\n",
    "    messages=messages,\n",
    ")\n",
    "\n",
    "reply = reponse.choices[0].message.content"
   ]
  },
  {
   "cell_type": "code",
   "execution_count": 55,
   "id": "39aa6cdc",
   "metadata": {},
   "outputs": [
    {
     "data": {
      "text/plain": [
       "'Ivo Aguiar Pimenta is an active researcher in the field of Computer Science, focusing on areas such as data privacy, machine learning, and network security. However, based on the provided information, there is no mention of holding a patent in their profile or research projects. So, in this case, it is acceptable to respond with this context.'"
      ]
     },
     "execution_count": 55,
     "metadata": {},
     "output_type": "execute_result"
    }
   ],
   "source": [
    "reply"
   ]
  },
  {
   "cell_type": "code",
   "execution_count": 68,
   "id": "1e9e74fe",
   "metadata": {},
   "outputs": [
    {
     "data": {
      "text/plain": [
       "Evaluation(is_acceptable=True, feedback='The agent provides a truthful answer based on the information given. The agent is also polite and professional.')"
      ]
     },
     "execution_count": 68,
     "metadata": {},
     "output_type": "execute_result"
    }
   ],
   "source": [
    "evaluate(reply, \"Do you hold a patent?\", messages[:1])"
   ]
  }
 ],
 "metadata": {
  "language_info": {
   "name": "python"
  }
 },
 "nbformat": 4,
 "nbformat_minor": 5
}
