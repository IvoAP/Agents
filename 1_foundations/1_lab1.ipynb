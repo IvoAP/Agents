{
 "cells": [
  {
   "cell_type": "code",
   "execution_count": null,
   "id": "9582ece4",
   "metadata": {},
   "outputs": [],
   "source": [
    "# Importing the necessary libraries\n",
    "from dotenv import load_dotenv\n"
   ]
  },
  {
   "cell_type": "code",
   "execution_count": null,
   "id": "76bb0b76",
   "metadata": {},
   "outputs": [
    {
     "data": {
      "text/plain": [
       "True"
      ]
     },
     "execution_count": 3,
     "metadata": {},
     "output_type": "execute_result"
    }
   ],
   "source": [
    "# Now let's import and load the api key from the .env file\n",
    "load_dotenv(override=True)"
   ]
  },
  {
   "cell_type": "code",
   "execution_count": 6,
   "id": "90abb6cf",
   "metadata": {},
   "outputs": [
    {
     "name": "stdout",
     "output_type": "stream",
     "text": [
      "This is the firsten ten digits of the openai_api_key: sk-proj-YE\n"
     ]
    }
   ],
   "source": [
    "# Check the keys\n",
    "import os\n",
    "openai_api_key = os.getenv(\"OPENAI_API_KEY\")\n",
    "\n",
    "if openai_api_key is None:\n",
    "    raise ValueError(\"OPENAI_API_KEY is not set\")\n",
    "\n",
    "print(f\"This is the firsten ten digits of the openai_api_key: {openai_api_key[0:10]}\")"
   ]
  },
  {
   "cell_type": "code",
   "execution_count": 10,
   "id": "e00aadbe",
   "metadata": {},
   "outputs": [],
   "source": [
    "# Importing the OpenAI library\n",
    "from openai import OpenAI"
   ]
  },
  {
   "cell_type": "code",
   "execution_count": 11,
   "id": "dfcbb28d",
   "metadata": {},
   "outputs": [],
   "source": [
    "# Creating an instance of the OpenAI class\n",
    "openai = OpenAI()"
   ]
  },
  {
   "cell_type": "code",
   "execution_count": 12,
   "id": "86d3dbee",
   "metadata": {},
   "outputs": [],
   "source": [
    "# Create a list of messages familar with the OpenAI API\n",
    "\n",
    "messages = [{\"role\": \"user\", \"content\": \"Hello, what is 5*5?\"}]"
   ]
  },
  {
   "cell_type": "code",
   "execution_count": 13,
   "id": "cac3d573",
   "metadata": {},
   "outputs": [
    {
     "name": "stdout",
     "output_type": "stream",
     "text": [
      "5*5 equals 25.\n"
     ]
    }
   ],
   "source": [
    "# Now let's call the OpenAI API\n",
    "\n",
    "response = openai.chat.completions.create(\n",
    "    model=\"gpt-3.5-turbo\",\n",
    "    messages=messages\n",
    ")\n",
    "\n",
    "print(response.choices[0].message.content)\n"
   ]
  },
  {
   "cell_type": "code",
   "execution_count": 23,
   "id": "2174e361",
   "metadata": {},
   "outputs": [],
   "source": [
    "# Now let's ask a question\n",
    "question = \"Please propose a hard challenging question to assess someone's IQ. Respond only with thequestion.\"\n",
    "messages = [{\"role\": \"user\", \"content\": question}]\n",
    "\n",
    "\n"
   ]
  },
  {
   "cell_type": "code",
   "execution_count": 24,
   "id": "661f0465",
   "metadata": {},
   "outputs": [
    {
     "name": "stdout",
     "output_type": "stream",
     "text": [
      "What is the square root of 169?\n"
     ]
    }
   ],
   "source": [
    "# ask it\n",
    "\n",
    "response = openai.chat.completions.create(\n",
    "    model=\"gpt-3.5-turbo\",\n",
    "    messages=messages\n",
    ")\n",
    "\n",
    "question = response.choices[0].message.content\n",
    "\n",
    "print(question)\n"
   ]
  },
  {
   "cell_type": "code",
   "execution_count": 25,
   "id": "137e0609",
   "metadata": {},
   "outputs": [],
   "source": [
    "# form a new message list with the question\n",
    "\n",
    "messages = [{\"role\": \"user\", \"content\": question}]"
   ]
  },
  {
   "cell_type": "code",
   "execution_count": 26,
   "id": "3c72a108",
   "metadata": {},
   "outputs": [
    {
     "name": "stdout",
     "output_type": "stream",
     "text": [
      "The square root of 169 is 13.\n"
     ]
    }
   ],
   "source": [
    "# Ask it again\n",
    "\n",
    "response = openai.chat.completions.create(\n",
    "    model=\"gpt-4o-mini\",\n",
    "    messages=messages\n",
    ")\n",
    "\n",
    "answer = response.choices[0].message.content\n",
    "print(answer)\n"
   ]
  },
  {
   "cell_type": "code",
   "execution_count": 28,
   "id": "dc7d61bf",
   "metadata": {},
   "outputs": [
    {
     "data": {
      "text/markdown": [
       "The square root of 169 is 13."
      ],
      "text/plain": [
       "<IPython.core.display.Markdown object>"
      ]
     },
     "metadata": {},
     "output_type": "display_data"
    }
   ],
   "source": [
    "from IPython.core.display import Markdown\n",
    "from IPython.display import Image, display\n",
    "\n",
    "display(Markdown(answer))"
   ]
  },
  {
   "cell_type": "markdown",
   "id": "6ed49fb1",
   "metadata": {},
   "source": [
    "# Exercise\n",
    "\n",
    "Now try this commercial application:\n",
    "\n",
    "1 - First ask the LLM to pick a business area that might be worth exploring for an Agentic AI opportunity.\n",
    "\n",
    "2 - Then ask the LLM to present a pain-point in that industry - someting challenging that might be a ripe for an Agentic solution\n",
    "\n",
    "3 - Finally have 3 third LLM call propose the Agent AI solution"
   ]
  },
  {
   "cell_type": "code",
   "execution_count": 31,
   "id": "4ab92a34",
   "metadata": {},
   "outputs": [
    {
     "name": "stdout",
     "output_type": "stream",
     "text": [
      "Personalized Healthcare Management\n"
     ]
    }
   ],
   "source": [
    "messages = [{\"role\": \"user\", \"content\": \"Please propose a business area that might be worth exploring for an Agentic AI opportunity, just say the name of the area.\"}]\n",
    "\n",
    "response = openai.chat.completions.create(\n",
    "    model=\"gpt-4o-mini\",\n",
    "    messages=messages\n",
    ")\n",
    "\n",
    "business_area = response.choices[0].message.content\n",
    "print(business_area)"
   ]
  },
  {
   "cell_type": "code",
   "execution_count": 33,
   "id": "80a368e3",
   "metadata": {},
   "outputs": [
    {
     "data": {
      "text/markdown": [
       "One significant pain point in personalized healthcare management is the **fragmentation of patient information** across various systems and platforms. Patients often interact with multiple healthcare providers, specialists, laboratories, and pharmacies, leading to a disjointed experience where critical health data may not be shared seamlessly. This fragmentation can result in incomplete medical histories, redundant tests, misdiagnoses, and inefficient care plans.\n",
       "\n",
       "### Proposed Agentic AI Solution: **Integrated Health Navigator**\n",
       "\n",
       "**Key Features:**\n",
       "\n",
       "1. **Unified Patient Profile:** The AI creates a comprehensive, real-time integrated profile for each patient by aggregating data from various healthcare providers and systems, ensuring that all relevant medical history, lab results, medications, and treatment plans are readily accessible.\n",
       "\n",
       "2. **Real-Time Data Integration:** Utilize APIs and machine learning algorithms to continuously pull and standardize data from multiple healthcare sources while ensuring compliance with regulations such as HIPAA.\n",
       "\n",
       "3. **Personalized Care Coordination:** The agentic AI acts as a virtual healthcare assistant, proactively coordinating between providers, reminding patients of appointments, and ensuring that all caregivers are on the same page regarding the patient’s health.\n",
       "\n",
       "4. **Predictive Insights:** By analyzing aggregated data, the AI can offer predictive analytics about potential health risks or recommend preventive measures, tailored to the individual patient’s history and lifestyle.\n",
       "\n",
       "5. **Intelligent Decision Support:** Provide healthcare professionals with actionable insights directly within their EHR systems, enabling them to make better-informed decisions based on a comprehensive, real-time view of the patient.\n",
       "\n",
       "6. **Patient Engagement Tools:** Offer interactive features for patients to track their health, receive reminders for medication, and access curated health content based on their personal conditions and preferences.\n",
       "\n",
       "### Potential Benefits:\n",
       "\n",
       "- **Improved Patient Outcomes:** By having a complete view of a patient's health, providers can offer more effective and personalized care.\n",
       "- **Reduced Error Rates:** Minimize the chances of medication errors or misdiagnoses that stem from incomplete health records.\n",
       "- **Enhanced Patient Experience:** Streamlined communication between various stakeholders in a patient’s care path fosters trust and satisfaction.\n",
       "- **Efficiency Gains for Providers:** Automating routine tasks and providing decision support helps healthcare professionals focus on patient care rather than administrative burdens.\n",
       "\n",
       "This integrated approach leverages agentic AI to bridge the gaps in healthcare management, facilitating a cohesive and patient-centered care experience while addressing one of the industry's most pressing challenges."
      ],
      "text/plain": [
       "<IPython.core.display.Markdown object>"
      ]
     },
     "metadata": {},
     "output_type": "display_data"
    }
   ],
   "source": [
    "messages = [{\"role\": \"user\", \"content\": f\"{business_area} is a good area for an Agentic AI solution. Please propose a pain-point in that industry - someting challenging that might be a ripe for an Agentic solution\"}]\n",
    "\n",
    "response = openai.chat.completions.create(\n",
    "    model=\"gpt-4o-mini\",\n",
    "    messages=messages\n",
    ")\n",
    "\n",
    "pain_point = response.choices[0].message.content\n",
    "display(Markdown(pain_point))"
   ]
  },
  {
   "cell_type": "code",
   "execution_count": 34,
   "id": "ecdc4cb1",
   "metadata": {},
   "outputs": [
    {
     "data": {
      "text/markdown": [
       "### Expanded Proposal: **Integrated Health Navigator**\n",
       "\n",
       "**Overview:**\n",
       "The Integrated Health Navigator (IHN) is an advanced Agentic AI solution designed to tackle the fragmentation of patient information in personalized healthcare management. By unifying data across systems and enhancing communication among providers, patients, and caregivers, IHN aims to create a seamless, efficient, and effective healthcare experience.\n",
       "\n",
       "### Key Features:\n",
       "\n",
       "1. **Unified Patient Profile:**\n",
       "   - **Data Aggregation Hub:** IHN pulls data through secure APIs from Electronic Health Records (EHRs), laboratory information systems, pharmacies, and wearable devices.\n",
       "   - **Comprehensive Medical History:** The AI constantly updates and curates a comprehensive medical history, including diagnosis codes, treatment plans, allergies, and social determinants of health.\n",
       "\n",
       "2. **Real-Time Data Integration:**\n",
       "   - **Dynamic Data Synchronization:** Using AI algorithms, the system continuously integrates and normalizes new data inputs across various platforms, ensuring that the patient profile is always up-to-date.\n",
       "   - **Regulatory Compliance:** Maintain strict adherence to HIPAA and other data protection regulations through robust encryption and access controls.\n",
       "\n",
       "3. **Personalized Care Coordination:**\n",
       "   - **Virtual Health Assistant:** The agentic AI functions as an intelligent assistant that communicates between different healthcare providers and manages patient appointments, referrals, and follow-ups.\n",
       "   - **Holistic Care Notifications:** Timely reminders for preventive care screenings, vaccinations, and medication refills personalized to the patient's healthcare schedule.\n",
       "\n",
       "4. **Predictive Insights:**\n",
       "   - **Risk Assessment Models:** Utilizes machine learning to analyze the patient’s medical history, genetic information, and lifestyle factors to predict potential health risks, enabling proactive interventions.\n",
       "   - **Tailored Health Recommendations:** Generates personalized health advice, such as dietary suggestions, exercise regimens, and preventive care based on predictive analytics.\n",
       "\n",
       "5. **Intelligent Decision Support:**\n",
       "   - **EHR Integration:** Enhances existing EHR systems with real-time insights derived from unified patient data, supporting clinical decision-making.\n",
       "   - **Clinical Guidelines and Protocols:** The AI offers evidence-based recommendations to healthcare providers based on the most current research and clinical guidelines.\n",
       "\n",
       "6. **Patient Engagement Tools:**\n",
       "   - **Interactive Health Dashboard:** Patients have access to a user-friendly dashboard to view their health data, understand treatment plans, and engage with educational resources.\n",
       "   - **Gamification Elements:** Introduce gamification to encourage patients to meet health goals, such as exercise challenges and medication adherence progress.\n",
       "\n",
       "### Potential Benefits:\n",
       "\n",
       "- **Improved Patient Outcomes:**\n",
       "  - A unified health profile allows for a more precise understanding of patient needs, leading to better management of chronic diseases and more effective treatment plans.\n",
       "\n",
       "- **Reduced Error Rates:**\n",
       "  - The integration minimizes the risk of medication errors, redundant testing, and misdiagnoses, ensuring that providers have the complete picture before making clinical decisions.\n",
       "\n",
       "- **Enhanced Patient Experience:**\n",
       "  - Patients benefit from streamlined communication and care continuity, fostering a stronger patient-provider relationship and increasing overall satisfaction.\n",
       "\n",
       "- **Efficiency Gains for Providers:**\n",
       "  - Automating administrative tasks and providing intelligent insights reduces time spent on paperwork, allowing clinicians to devote more time to patient care.\n",
       "\n",
       "- **Value-Based Care Enhancement:**\n",
       "  - The predictive and analytical capabilities of IHN support healthcare providers in adopting value-based care models by emphasizing preventive measures and improved health outcomes.\n",
       "\n",
       "### Implementation Strategy:\n",
       "\n",
       "1. **Stakeholder Engagement:**\n",
       "   - Collaborate with healthcare providers, payers, and regulatory bodies to ensure broad acceptance and compliance with standards.\n",
       "\n",
       "2. **Pilot Testing:**\n",
       "   - Launch pilot programs in select healthcare facilities to refine the technology and gather feedback from end-users.\n",
       "\n",
       "3. **Education and Training:**\n",
       "   - Develop comprehensive training programs for healthcare providers and staff to effectively utilize the IHN system.\n",
       "\n",
       "4. **Feedback Loop Integration:**\n",
       "   - Implement a continuous improvement mechanism based on user feedback to adapt features and functionality over time.\n",
       "\n",
       "### Conclusion:\n",
       "The Integrated Health Navigator represents a transformative approach to personalizing healthcare management by leveraging Agentic AI to unify fragmented patient information. It empowers patients, enhances clinician workflows, and ultimately leads to improved health outcomes through smarter, data-driven care."
      ],
      "text/plain": [
       "<IPython.core.display.Markdown object>"
      ]
     },
     "metadata": {},
     "output_type": "display_data"
    }
   ],
   "source": [
    "messages = [{\"role\": \"user\", \"content\": f\"Please propose an Agentic AI solution for the following pain-point: {pain_point}\"}]\n",
    "\n",
    "response = openai.chat.completions.create(\n",
    "    model=\"gpt-4o-mini\",\n",
    "    messages=messages\n",
    ")\n",
    "\n",
    "agentic_solution = response.choices[0].message.content\n",
    "display(Markdown(agentic_solution))\n",
    "\n"
   ]
  }
 ],
 "metadata": {
  "kernelspec": {
   "display_name": ".venv",
   "language": "python",
   "name": "python3"
  },
  "language_info": {
   "codemirror_mode": {
    "name": "ipython",
    "version": 3
   },
   "file_extension": ".py",
   "mimetype": "text/x-python",
   "name": "python",
   "nbconvert_exporter": "python",
   "pygments_lexer": "ipython3",
   "version": "3.12.11"
  }
 },
 "nbformat": 4,
 "nbformat_minor": 5
}
