{
 "cells": [
  {
   "cell_type": "code",
   "execution_count": null,
   "id": "9582ece4",
   "metadata": {},
   "outputs": [],
   "source": [
    "# Importing the necessary libraries\n",
    "from dotenv import load_dotenv\n"
   ]
  },
  {
   "cell_type": "code",
   "execution_count": null,
   "id": "76bb0b76",
   "metadata": {},
   "outputs": [],
   "source": [
    "# Now let's import and load the api key from the .env file\n",
    "load_dotenv(override=True)"
   ]
  },
  {
   "cell_type": "code",
   "execution_count": null,
   "id": "90abb6cf",
   "metadata": {},
   "outputs": [],
   "source": [
    "# Check the keys\n",
    "import os\n",
    "openai_api_key = os.getenv(\"OPENAI_API_KEY\")\n",
    "\n",
    "if openai_api_key is None:\n",
    "    raise ValueError(\"OPENAI_API_KEY is not set\")\n",
    "\n",
    "print(f\"This is the firsten ten digits of the openai_api_key: {openai_api_key[0:10]}\")"
   ]
  },
  {
   "cell_type": "code",
   "execution_count": null,
   "id": "e00aadbe",
   "metadata": {},
   "outputs": [],
   "source": [
    "# Importing the OpenAI library\n",
    "from openai import OpenAI"
   ]
  },
  {
   "cell_type": "code",
   "execution_count": null,
   "id": "dfcbb28d",
   "metadata": {},
   "outputs": [],
   "source": [
    "# Creating an instance of the OpenAI class\n",
    "openai = OpenAI()"
   ]
  },
  {
   "cell_type": "code",
   "execution_count": null,
   "id": "86d3dbee",
   "metadata": {},
   "outputs": [],
   "source": [
    "# Create a list of messages familar with the OpenAI API\n",
    "\n",
    "messages = [{\"role\": \"user\", \"content\": \"Hello, what is 5*5?\"}]"
   ]
  },
  {
   "cell_type": "code",
   "execution_count": null,
   "id": "cac3d573",
   "metadata": {},
   "outputs": [],
   "source": [
    "# Now let's call the OpenAI API\n",
    "\n",
    "response = openai.chat.completions.create(\n",
    "    model=\"gpt-3.5-turbo\",\n",
    "    messages=messages\n",
    ")\n",
    "\n",
    "print(response.choices[0].message.content)\n"
   ]
  },
  {
   "cell_type": "code",
   "execution_count": null,
   "id": "2174e361",
   "metadata": {},
   "outputs": [],
   "source": [
    "# Now let's ask a question\n",
    "question = \"Please propose a hard challenging question to assess someone's IQ. Respond only with thequestion.\"\n",
    "messages = [{\"role\": \"user\", \"content\": question}]\n",
    "\n",
    "\n"
   ]
  },
  {
   "cell_type": "code",
   "execution_count": null,
   "id": "661f0465",
   "metadata": {},
   "outputs": [],
   "source": [
    "# ask it\n",
    "\n",
    "response = openai.chat.completions.create(\n",
    "    model=\"gpt-3.5-turbo\",\n",
    "    messages=messages\n",
    ")\n",
    "\n",
    "question = response.choices[0].message.content\n",
    "\n",
    "print(question)\n"
   ]
  },
  {
   "cell_type": "code",
   "execution_count": null,
   "id": "137e0609",
   "metadata": {},
   "outputs": [],
   "source": [
    "# form a new message list with the question\n",
    "\n",
    "messages = [{\"role\": \"user\", \"content\": question}]"
   ]
  },
  {
   "cell_type": "code",
   "execution_count": null,
   "id": "3c72a108",
   "metadata": {},
   "outputs": [],
   "source": [
    "# Ask it again\n",
    "\n",
    "response = openai.chat.completions.create(\n",
    "    model=\"gpt-4o-mini\",\n",
    "    messages=messages\n",
    ")\n",
    "\n",
    "answer = response.choices[0].message.content\n",
    "print(answer)\n"
   ]
  },
  {
   "cell_type": "code",
   "execution_count": null,
   "id": "dc7d61bf",
   "metadata": {},
   "outputs": [],
   "source": [
    "from IPython.core.display import Markdown\n",
    "from IPython.display import Image, display\n",
    "\n",
    "display(Markdown(answer))"
   ]
  },
  {
   "cell_type": "markdown",
   "id": "6ed49fb1",
   "metadata": {},
   "source": [
    "# Exercise\n",
    "\n",
    "Now try this commercial application:\n",
    "\n",
    "1 - First ask the LLM to pick a business area that might be worth exploring for an Agentic AI opportunity.\n",
    "\n",
    "2 - Then ask the LLM to present a pain-point in that industry - someting challenging that might be a ripe for an Agentic solution\n",
    "\n",
    "3 - Finally have 3 third LLM call propose the Agent AI solution"
   ]
  },
  {
   "cell_type": "code",
   "execution_count": null,
   "id": "4ab92a34",
   "metadata": {},
   "outputs": [],
   "source": [
    "messages = [{\"role\": \"user\", \"content\": \"Please propose a business area that might be worth exploring for an Agentic AI opportunity, just say the name of the area.\"}]\n",
    "\n",
    "response = openai.chat.completions.create(\n",
    "    model=\"gpt-4o-mini\",\n",
    "    messages=messages\n",
    ")\n",
    "\n",
    "business_area = response.choices[0].message.content\n",
    "print(business_area)"
   ]
  },
  {
   "cell_type": "code",
   "execution_count": null,
   "id": "80a368e3",
   "metadata": {},
   "outputs": [],
   "source": [
    "messages = [{\"role\": \"user\", \"content\": f\"{business_area} is a good area for an Agentic AI solution. Please propose a pain-point in that industry - someting challenging that might be a ripe for an Agentic solution\"}]\n",
    "\n",
    "response = openai.chat.completions.create(\n",
    "    model=\"gpt-4o-mini\",\n",
    "    messages=messages\n",
    ")\n",
    "\n",
    "pain_point = response.choices[0].message.content\n",
    "display(Markdown(pain_point))"
   ]
  },
  {
   "cell_type": "code",
   "execution_count": null,
   "id": "ecdc4cb1",
   "metadata": {},
   "outputs": [],
   "source": [
    "messages = [{\"role\": \"user\", \"content\": f\"Please propose an Agentic AI solution for the following pain-point: {pain_point}\"}]\n",
    "\n",
    "response = openai.chat.completions.create(\n",
    "    model=\"gpt-4o-mini\",\n",
    "    messages=messages\n",
    ")\n",
    "\n",
    "agentic_solution = response.choices[0].message.content\n",
    "display(Markdown(agentic_solution))\n",
    "\n"
   ]
  }
 ],
 "metadata": {
  "kernelspec": {
   "display_name": ".venv",
   "language": "python",
   "name": "python3"
  },
  "language_info": {
   "codemirror_mode": {
    "name": "ipython",
    "version": 3
   },
   "file_extension": ".py",
   "mimetype": "text/x-python",
   "name": "python",
   "nbconvert_exporter": "python",
   "pygments_lexer": "ipython3",
   "version": "3.12.11"
  }
 },
 "nbformat": 4,
 "nbformat_minor": 5
}
