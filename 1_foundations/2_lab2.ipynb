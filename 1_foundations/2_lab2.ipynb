{
 "cells": [
  {
   "cell_type": "code",
   "execution_count": 3,
   "id": "32364f73",
   "metadata": {},
   "outputs": [],
   "source": [
    "# import the necessary libraries\n",
    "import os\n",
    "import json\n",
    "from dotenv import load_dotenv\n",
    "from openai import OpenAI\n",
    "from IPython.core.display import Markdown\n",
    "from IPython.display import  display\n",
    "from anthropic import Anthropic"
   ]
  },
  {
   "cell_type": "code",
   "execution_count": 4,
   "id": "be00083b",
   "metadata": {},
   "outputs": [
    {
     "data": {
      "text/plain": [
       "True"
      ]
     },
     "execution_count": 4,
     "metadata": {},
     "output_type": "execute_result"
    }
   ],
   "source": [
    "# load the environment variables\n",
    "load_dotenv(override=True)"
   ]
  },
  {
   "cell_type": "code",
   "execution_count": 5,
   "id": "36fd1dfd",
   "metadata": {},
   "outputs": [
    {
     "name": "stdout",
     "output_type": "stream",
     "text": [
      "sk-pr\n",
      "sk-an\n",
      "AIzaS\n"
     ]
    }
   ],
   "source": [
    "# check if the environment variables are set\n",
    "openai_api_key = os.getenv(\"OPENAI_API_KEY\")\n",
    "anthropic_api_key = os.getenv(\"ANTHROPIC_API_KEY\")\n",
    "google_api_key = os.getenv(\"GOOGLE_API_KEY\")\n",
    "\n",
    "if openai_api_key is None:\n",
    "    raise ValueError(\"OPENAI_API_KEY is not set\")\n",
    "if anthropic_api_key is None:\n",
    "    raise ValueError(\"ANTHROPIC_API_KEY is not set\")\n",
    "if google_api_key is None:\n",
    "    raise ValueError(\"GOOGLE_API_KEY is not set\")\n",
    "\n",
    "print(openai_api_key[0:5])\n",
    "print(anthropic_api_key[0:5])\n",
    "print(google_api_key[0:5])\n",
    "\n"
   ]
  },
  {
   "cell_type": "code",
   "execution_count": 6,
   "id": "4a2adf74",
   "metadata": {},
   "outputs": [],
   "source": [
    "request = \"Please come up with a challenging , nuanced question that I can ask a number of LLMs to evaluate their intelligence.\"\n",
    "request+= \" Answer only with the question , no explanaition.\"\n",
    "messages = [{\"role\": \"user\", \"content\": request}]\n"
   ]
  },
  {
   "cell_type": "code",
   "execution_count": 7,
   "id": "2b8e4ce5",
   "metadata": {},
   "outputs": [
    {
     "data": {
      "text/plain": [
       "[{'role': 'user',\n",
       "  'content': 'Please come up with a challenging , nuanced question that I can ask a number of LLMs to evaluate their intelligence. Answer only with the question , no explanaition.'}]"
      ]
     },
     "execution_count": 7,
     "metadata": {},
     "output_type": "execute_result"
    }
   ],
   "source": [
    "messages"
   ]
  },
  {
   "cell_type": "code",
   "execution_count": 8,
   "id": "ee0bb5d7",
   "metadata": {},
   "outputs": [
    {
     "name": "stdout",
     "output_type": "stream",
     "text": [
      "What ethical considerations should be taken into account when balancing national security interests with individual privacy rights in the context of surveillance programs?\n"
     ]
    }
   ],
   "source": [
    "openai = OpenAI(api_key=openai_api_key)\n",
    "response = openai.chat.completions.create(\n",
    "    model=\"gpt-3.5-turbo\",\n",
    "    messages=messages\n",
    ")\n",
    "\n",
    "question = response.choices[0].message.content\n",
    "print(question)"
   ]
  },
  {
   "cell_type": "code",
   "execution_count": 9,
   "id": "d96f5c97",
   "metadata": {},
   "outputs": [],
   "source": [
    "competitors = []\n",
    "answers = []\n",
    "messages = [{\"role\": \"user\", \"content\": question}]"
   ]
  },
  {
   "cell_type": "code",
   "execution_count": 10,
   "id": "009f80ff",
   "metadata": {},
   "outputs": [
    {
     "data": {
      "text/markdown": [
       "Balancing national security interests with individual privacy rights in the context of surveillance programs raises several ethical considerations that require careful examination. Here are key points to consider:\n",
       "\n",
       "1. **Proportionality**: Surveillance measures should be proportionate to the threat posed. Organizing surveillance efforts should involve assessing whether the potential benefits to national security outweigh the intrusiveness of undermining individual privacy rights.\n",
       "\n",
       "2. **Necessity**: Consider whether the surveillance is necessary to achieve a legitimate aim of national security. There should be clear justifications for the scope, duration, and methods of surveillance employed.\n",
       "\n",
       "3. **Transparency**: The processes and rationale behind surveillance programs should be transparent to maintain public trust. Oversight mechanisms should be in place to hold authorities accountable and ensure that surveillance is conducted lawfully and ethically.\n",
       "\n",
       "4. **Informed Consent**: Individuals should be informed about the extent of surveillance programs that may affect them, and safeguards should be implemented to protect those who may not have explicitly consented to such measures. This is particularly complex in the realm of national security, where the justification for surveillance often relies on secrecy.\n",
       "\n",
       "5. **Data Minimization**: Surveillance programs should emphasize data minimization, collecting only what is necessary for the purpose of security and disposing of data that is no longer needed. This helps protect individual privacy and reduce the risk of misuse of information.\n",
       "\n",
       "6. **Fairness and Non-discrimination**: It is important to consider the potential bias and disproportionate impact of surveillance on certain communities or groups. Ethical surveillance practices should aim to prevent discrimination based on race, ethnicity, religious affiliation, or socio-economic status.\n",
       "\n",
       "7. **Right to Challenge**: Individuals should have mechanisms available to challenge or appeal decisions related to surveillance that they believe infringe upon their rights. This aspect ensures accountability and the possibility for redress.\n",
       "\n",
       "8. **Impact Assessment**: Regular assessments should be conducted on the impact of surveillance on privacy rights. This includes evaluating both intended and unintended consequences and modifying practices accordingly.\n",
       "\n",
       "9. **Balancing Competing Rights**: Ethical considerations should take into account the rights of individuals versus the rights of society as a whole. This involves subjective judgments about where the balance should lie and requires ongoing dialogue among stakeholders.\n",
       "\n",
       "10. **Global Standards and Cooperation**: In a globalized world, consider how national security measures align with international human rights standards. Cooperation among nations on surveillance practices can contribute to a more unified ethical framework.\n",
       "\n",
       "Ultimately, the ethical considerations in this balance revolve around respecting individual rights while effectively addressing the legitimate needs of national security. Engaging in ongoing public discourse, inclusive policymaking, and robust checks and balances can help navigate this complex landscape."
      ],
      "text/plain": [
       "<IPython.core.display.Markdown object>"
      ]
     },
     "metadata": {},
     "output_type": "display_data"
    }
   ],
   "source": [
    "# Gpt Model\n",
    "model_name = \"gpt-4o-mini\"\n",
    "\n",
    "repsonse = openai.chat.completions.create(model=model_name, messages=messages)\n",
    "answer = repsonse.choices[0].message.content\n",
    "\n",
    "display(Markdown(answer))\n",
    "competitors.append(model_name)\n",
    "answers.append(answer)"
   ]
  },
  {
   "cell_type": "code",
   "execution_count": 11,
   "id": "d74c51b9",
   "metadata": {},
   "outputs": [
    {
     "data": {
      "text/markdown": [
       "# Balancing Security and Privacy: Ethical Considerations\n",
       "\n",
       "When evaluating surveillance programs that weigh national security against privacy rights, several key ethical considerations emerge:\n",
       "\n",
       "## Proportionality and Necessity\n",
       "- Is the scope and degree of surveillance proportional to the actual threat?\n",
       "- Are less invasive alternatives available that could achieve similar security objectives?\n",
       "- Is surveillance being deployed as a last resort rather than a default approach?\n",
       "\n",
       "## Transparency and Accountability\n",
       "- Do oversight mechanisms exist to prevent abuse of surveillance powers?\n",
       "- Are there clear limits on data retention, access controls, and usage boundaries?\n",
       "- Can citizens meaningfully understand how surveillance may affect them?\n",
       "\n",
       "## Justice and Non-discrimination\n",
       "- Do surveillance systems disproportionately target specific communities?\n",
       "- Are there safeguards against using collected data to reinforce existing biases?\n",
       "- Does the distribution of security benefits and privacy costs fall equitably?\n",
       "\n",
       "## Democratic Consent and Participation\n",
       "- Have surveillance programs received legitimate democratic authorization?\n",
       "- Do citizens have avenues to provide informed consent or challenge practices?\n",
       "- Is there ongoing public debate about the proper boundaries of surveillance?\n",
       "\n",
       "Resolving these tensions involves recognizing that neither security nor privacy are absolute values, but both are essential to a functioning democratic society."
      ],
      "text/plain": [
       "<IPython.core.display.Markdown object>"
      ]
     },
     "metadata": {},
     "output_type": "display_data"
    }
   ],
   "source": [
    "# Anthropic model\n",
    "model_name = \"claude-3-7-sonnet-20250219\"\n",
    "\n",
    "claude = Anthropic()\n",
    "response = claude.messages.create(model=model_name, messages=messages, max_tokens=1000)\n",
    "answer = response.content[0].text\n",
    "\n",
    "display(Markdown(answer))\n",
    "competitors.append(model_name)\n",
    "answers.append(answer)"
   ]
  },
  {
   "cell_type": "code",
   "execution_count": 14,
   "id": "67c1e4e5",
   "metadata": {},
   "outputs": [
    {
     "data": {
      "text/markdown": [
       "Balancing national security interests with individual privacy rights in the context of surveillance programs involves navigating a complex ethical landscape. Here are some key ethical considerations:\n",
       "\n",
       "**1. Proportionality and Necessity:**\n",
       "\n",
       "*   **Proportionality:** Surveillance measures should be proportionate to the threat they aim to address. The intrusion on privacy should be justified by the potential harm prevented. Minor or speculative threats should not justify broad or intrusive surveillance.\n",
       "*   **Necessity:** Surveillance should only be used when it's necessary, meaning there are no less intrusive means to achieve the same security goal.  The government should demonstrate that alternative methods have been considered and found insufficient.\n",
       "\n",
       "**2. Transparency and Accountability:**\n",
       "\n",
       "*   **Transparency:** To the greatest extent possible without compromising security, the public should be informed about the nature and scope of surveillance programs. This includes the legal basis for the programs, the types of data collected, and how the data is used.\n",
       "*   **Accountability:** There should be mechanisms for oversight and accountability to ensure that surveillance programs are conducted lawfully and ethically. This includes independent judicial review, legislative oversight, and the ability for individuals to seek redress if their privacy rights are violated.\n",
       "\n",
       "**3. Minimization and Data Retention:**\n",
       "\n",
       "*   **Minimization:** Surveillance programs should collect only the minimum amount of data necessary to achieve their legitimate security objectives. Data collection should be targeted and focused, rather than broad and indiscriminate.\n",
       "*   **Data Retention:** Data collected through surveillance should be retained only for as long as it is necessary and relevant to the purpose for which it was collected. Clear policies should govern the retention, use, and eventual deletion of data.\n",
       "\n",
       "**4. Discrimination and Bias:**\n",
       "\n",
       "*   **Equal Protection:** Surveillance programs should be applied equally to all individuals and groups, without discrimination based on race, ethnicity, religion, political affiliation, or other protected characteristics.\n",
       "*   **Bias Mitigation:**  Steps should be taken to mitigate the risk of bias in surveillance algorithms and data analysis.  Algorithms should be regularly audited for fairness and accuracy.\n",
       "\n",
       "**5. Purpose Limitation:**\n",
       "\n",
       "*   **Use Restriction:** Data collected for national security purposes should not be used for other purposes, such as law enforcement or commercial gain, without proper legal authorization and ethical justification.\n",
       "*   **Secondary Use:** The secondary use of surveillance data raises ethical concerns. Clear guidelines are needed to prevent mission creep and to ensure that data collected for one purpose is not used for unrelated purposes without adequate safeguards.\n",
       "\n",
       "**6. Consent and Notification:**\n",
       "\n",
       "*   **Informed Consent:**  In some cases, it may be possible to obtain informed consent from individuals before their data is collected. However, this is often not feasible in the context of national security surveillance.\n",
       "*   **Notification:** When direct consent is not possible, individuals should be notified when their data has been collected, if doing so does not compromise national security.\n",
       "\n",
       "**7. Balancing Competing Rights:**\n",
       "\n",
       "*   **Freedom of Speech and Association:** Surveillance programs can have a chilling effect on freedom of speech and association. Individuals may be less likely to express controversial opinions or participate in political activities if they fear that they are being watched.\n",
       "*   **Right to Privacy vs. Right to Security:**  There is a constant tension between the right to privacy and the right to security.  Ethical decision-making requires carefully weighing these competing rights and finding a balance that protects both.\n",
       "\n",
       "**8.  Human Dignity and Autonomy:**\n",
       "\n",
       "*   **Respect for Persons:**  Surveillance programs should be designed and implemented in a way that respects the human dignity and autonomy of individuals.\n",
       "*   **Digital Identity:**  Surveillance can affect an individual's digital identity and reputation. Safeguards are needed to protect individuals from being unfairly stigmatized or discriminated against based on inaccurate or incomplete surveillance data.\n",
       "\n",
       "**9.  Impact Assessment:**\n",
       "\n",
       "*   **Privacy Impact Assessments (PIAs):**  Before implementing a new surveillance program, the government should conduct a PIA to assess the potential impact on privacy rights. PIAs should be made public to the greatest extent possible.\n",
       "\n",
       "**10. International Law and Norms:**\n",
       "\n",
       "*   **Human Rights Treaties:** Surveillance programs should comply with international human rights treaties, such as the International Covenant on Civil and Political Rights (ICCPR), which guarantees the right to privacy.\n",
       "*   **Cross-border Surveillance:** When surveillance involves cross-border data flows, governments should respect the privacy laws and norms of other countries.\n",
       "\n",
       "**Underlying Ethical Frameworks:**\n",
       "\n",
       "These considerations are rooted in various ethical frameworks, including:\n",
       "\n",
       "*   **Deontology:** Emphasizing duties and rules, ensuring actions adhere to principles of privacy and justice.\n",
       "*   **Utilitarianism:** Seeking the greatest good for the greatest number, balancing potential security gains against privacy costs.\n",
       "*   **Virtue Ethics:** Focusing on the character of decision-makers, promoting transparency, fairness, and accountability in surveillance practices.\n",
       "\n",
       "**In Conclusion:**\n",
       "\n",
       "Balancing national security and privacy requires ongoing dialogue, robust legal frameworks, and ethical vigilance. There is no easy answer, and the specific solutions will depend on the context and the nature of the threat. However, by carefully considering these ethical considerations, policymakers can strive to create surveillance programs that are both effective and respectful of individual rights.\n"
      ],
      "text/plain": [
       "<IPython.core.display.Markdown object>"
      ]
     },
     "metadata": {},
     "output_type": "display_data"
    }
   ],
   "source": [
    "# Gemini model\n",
    "gemini = OpenAI(api_key=google_api_key, base_url=\"https://generativelanguage.googleapis.com/v1beta/openai/\")\n",
    "model_name = \"gemini-2.0-flash\"\n",
    "response = gemini.chat.completions.create(model=model_name, messages=messages)\n",
    "\n",
    "answer = response.choices[0].message.content\n",
    "display(Markdown(answer))\n",
    "competitors.append(model_name)\n",
    "answers.append(answer)\n",
    "\n"
   ]
  },
  {
   "cell_type": "markdown",
   "id": "3923431b",
   "metadata": {},
   "source": [
    "## How to use Ollama\n",
    "\n",
    "Ollama is a tool that allows you to run large language models locally on your machine, providing an OpenAI-compatible API endpoint for easy integration.\n",
    "\n",
    "### Step 1: Installation\n",
    "1. Visit [https://ollama.com/download](https://ollama.com/download)\n",
    "2. Download the Windows version\n",
    "3. Run the installer and follow the instructions\n",
    "4. Restart your terminal/command prompt after installation\n",
    "\n",
    "### Step 2: Start the server\n",
    "After installation, Ollama usually starts automatically as a background service. To verify it's running:\n",
    "- Visit [http://localhost:11434](http://localhost:11434) \n",
    "- You should see the message: \"Ollama is running\"\n",
    "\n",
    "### Step 3: Download and use models\n",
    "```bash\n",
    "# Download a model (this may take several minutes)\n",
    "ollama pull llama3.2\n",
    "\n",
    "# Run a model interactively\n",
    "ollama run llama3.2\n",
    "\n",
    "# Test with a quick prompt\n",
    "ollama run llama3.2 \"Hello, how are you?\"\n",
    "```\n",
    "\n",
    "## Essential Ollama Commands\n",
    "\n",
    "### Model Management\n",
    "- `ollama pull <model_name>` - Download a specific model from the library\n",
    "- `ollama ls` or `ollama list` - List all installed models with their sizes\n",
    "- `ollama rm <model_name>` - Remove a specific model to free up disk space\n",
    "- `ollama show <model_name>` - Display detailed information about a model\n",
    "\n",
    "### Server Management\n",
    "- `ollama serve` - Start the Ollama server manually (usually not needed)\n",
    "- `ollama ps` - Show currently running models and their status\n",
    "- `ollama stop <model_name>` - Stop a specific running model\n",
    "\n",
    "### Interactive Usage\n",
    "- `ollama run <model_name>` - Start an interactive chat session with a model\n",
    "- `ollama run <model_name> \"your prompt\"` - Get a single response from a model\n",
    "\n",
    "### Popular Models to Try\n",
    "- `llama3.2` - Latest Llama model (3B or 1B parameters)\n",
    "- `llama3.2:70b` - Larger Llama model for better performance\n",
    "- `mistral` - Efficient 7B parameter model\n",
    "- `codellama` - Specialized for code generation\n",
    "- `gemma2` - Google's open model\n",
    "\n",
    "### API Usage\n",
    "Once Ollama is running, you can use it with the OpenAI-compatible API at:\n",
    "- Base URL: `http://localhost:11434/v1`\n",
    "- No API key required for local usage"
   ]
  },
  {
   "cell_type": "code",
   "execution_count": null,
   "id": "b190e0b7",
   "metadata": {},
   "outputs": [],
   "source": []
  }
 ],
 "metadata": {
  "kernelspec": {
   "display_name": "Agents",
   "language": "python",
   "name": "python3"
  },
  "language_info": {
   "codemirror_mode": {
    "name": "ipython",
    "version": 3
   },
   "file_extension": ".py",
   "mimetype": "text/x-python",
   "name": "python",
   "nbconvert_exporter": "python",
   "pygments_lexer": "ipython3",
   "version": "3.12.11"
  }
 },
 "nbformat": 4,
 "nbformat_minor": 5
}
